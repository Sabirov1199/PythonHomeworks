{
 "cells": [
  {
   "cell_type": "code",
   "execution_count": null,
   "id": "85b16a16",
   "metadata": {},
   "outputs": [],
   "source": [
    "#Given a side of square. Find its perimeter and area."
   ]
  },
  {
   "cell_type": "code",
   "execution_count": 3,
   "id": "8a4876d9",
   "metadata": {},
   "outputs": [
    {
     "name": "stdout",
     "output_type": "stream",
     "text": [
      "Perimeter 21\n",
      "Yuzi 40\n"
     ]
    }
   ],
   "source": [
    "a=int(input('a ni kirgizing'))\n",
    "b=int(input('b ni kirgizing'))\n",
    "\n",
    "p=a+b*2\n",
    "s=a*b\n",
    "print(f'Perimeter {p}\\nYuzi {s}')"
   ]
  },
  {
   "cell_type": "code",
   "execution_count": 5,
   "id": "a37a710d",
   "metadata": {},
   "outputs": [
    {
     "name": "stdout",
     "output_type": "stream",
     "text": [
      "Uzunligi 31.400000000000002\n"
     ]
    }
   ],
   "source": [
    "#Given diameter of circle. Find its length\n",
    "\n",
    "D=int(input('Diametrni kirgizing'))\n",
    "\n",
    "Lent=D*3.14\n",
    "print(f'Uzunligi {Lent}')"
   ]
  },
  {
   "cell_type": "code",
   "execution_count": 8,
   "id": "1eff75ac",
   "metadata": {},
   "outputs": [
    {
     "name": "stdout",
     "output_type": "stream",
     "text": [
      "average 6.0\n"
     ]
    }
   ],
   "source": [
    "#Given two numbers a and b. Find their mean\n",
    "a=int(input('a ni kirgizing'))\n",
    "b=int(input('b ni kirgizing'))\n",
    "\n",
    "AVG=(a+b)/2\n",
    "print(f'average {AVG}')"
   ]
  },
  {
   "cell_type": "code",
   "execution_count": 11,
   "id": "a998cafc",
   "metadata": {},
   "outputs": [
    {
     "name": "stdout",
     "output_type": "stream",
     "text": [
      "sum 8\n",
      "Product15\n",
      "squarea25\n",
      "Squareb9\n"
     ]
    }
   ],
   "source": [
    "#Given two numbers a and b. Find their sum, product and square of each number.\n",
    "a=int(input('a ni kirgizing'))\n",
    "b=int(input('b ni kirgizing'))\n",
    "S=a+b\n",
    "P=a*b\n",
    "Sq=a**2\n",
    "Sqb=b**2\n",
    "print(f'sum {S}\\nProduct{P}\\nsquarea{Sq}\\nSquareb{Sqb}')"
   ]
  },
  {
   "cell_type": "code",
   "execution_count": null,
   "id": "68502a09",
   "metadata": {},
   "outputs": [],
   "source": []
  },
  {
   "cell_type": "code",
   "execution_count": null,
   "id": "4e2d82a3",
   "metadata": {},
   "outputs": [],
   "source": []
  },
  {
   "cell_type": "code",
   "execution_count": null,
   "id": "5394e2f4",
   "metadata": {},
   "outputs": [],
   "source": []
  }
 ],
 "metadata": {
  "kernelspec": {
   "display_name": "Python 3",
   "language": "python",
   "name": "python3"
  },
  "language_info": {
   "codemirror_mode": {
    "name": "ipython",
    "version": 3
   },
   "file_extension": ".py",
   "mimetype": "text/x-python",
   "name": "python",
   "nbconvert_exporter": "python",
   "pygments_lexer": "ipython3",
   "version": "3.12.9"
  }
 },
 "nbformat": 4,
 "nbformat_minor": 5
}
